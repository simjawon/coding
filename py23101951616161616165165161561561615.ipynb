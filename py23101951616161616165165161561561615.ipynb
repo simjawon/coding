{
  "nbformat": 4,
  "nbformat_minor": 0,
  "metadata": {
    "colab": {
      "provenance": [],
      "authorship_tag": "ABX9TyPJ1BwoDGI7JoWoKyC2lCvh",
      "include_colab_link": true
    },
    "kernelspec": {
      "name": "python3",
      "display_name": "Python 3"
    },
    "language_info": {
      "name": "python"
    }
  },
  "cells": [
    {
      "cell_type": "markdown",
      "metadata": {
        "id": "view-in-github",
        "colab_type": "text"
      },
      "source": [
        "<a href=\"https://colab.research.google.com/github/simjaewon2/firstcode/blob/main/py231019.ipynb\" target=\"_parent\"><img src=\"https://colab.research.google.com/assets/colab-badge.svg\" alt=\"Open In Colab\"/></a>"
      ]
    },
    {
      "cell_type": "code",
      "execution_count": null,
      "metadata": {
        "id": "bcvFYx8UuCby"
      },
      "outputs": [],
      "source": []
    },
    {
      "cell_type": "markdown",
      "source": [
        "1. To-Do List를 작성하시오.\n",
        " - 2023년 10월 19일 심재원\n",
        " - (1) 09:20 도서관에서 책 빌리기\n",
        " - (2) 11:10 컴퓨팅적사고와 기초코딩 수업\n",
        " - (3) 13:00 점심식사\n",
        " - (4) 14:00 교양수업\n",
        " - (5) 16:00 파이썬 공부 및 레포트 작성\n",
        " - (6) 17:40 저녁식사 및 집안일 돕기\n",
        " - (7) 19:00 LOL하기\n"
      ],
      "metadata": {
        "id": "q6OjRBl2uKK4"
      }
    },
    {
      "cell_type": "code",
      "source": [
        "print(\"(1) 09:20 도서관에서 책 빌리기\")\n",
        "print(\"(2) 11:10 컴퓨팅적사고와 기초코딩 수업\")\n",
        "print(\"(3) 13:00 점심식사\")\n",
        "print(\"(4) 14:00 교양수업\")\n",
        "print(\"(5) 16:00 파이썬 공부 및 레포트 작성\")\n",
        "print(\"(6) 17:40 저녁식사 및 집안일 돕기\")\n",
        "print(\"(7) 19:00 LOL하기\")"
      ],
      "metadata": {
        "colab": {
          "base_uri": "https://localhost:8080/"
        },
        "id": "YRQpNX07xqdg",
        "outputId": "843a8f4c-0de2-415f-bb9f-066871f5c39e"
      },
      "execution_count": 30,
      "outputs": [
        {
          "output_type": "stream",
          "name": "stdout",
          "text": [
            "(1) 09:20 도서관에서 책 빌리기\n",
            "(2) 11:10 컴퓨팅적사고와 기초코딩 수업\n",
            "(3) 13:00 점심식사\n",
            "(4) 14:00 교양수업\n",
            "(5) 16:00 파이썬 공부 및 레포트 작성\n",
            "(6) 17:40 저녁식사 및 집안일 돕기\n",
            "(7) 19:00 LOL하기\n"
          ]
        }
      ]
    },
    {
      "cell_type": "markdown",
      "source": [
        "2. 인사말 출력하기\n",
        " - 식사하셨습니까? 행님"
      ],
      "metadata": {
        "id": "XsU2nixKwU1p"
      }
    },
    {
      "cell_type": "code",
      "source": [
        "print(\"인사말 출력하기\")\n",
        "print(\"식사하셧습니까? 행님\")"
      ],
      "metadata": {
        "colab": {
          "base_uri": "https://localhost:8080/"
        },
        "id": "HpYcDq2S1EAh",
        "outputId": "4748bc0d-d34d-4181-825e-ebed8e49c710"
      },
      "execution_count": 31,
      "outputs": [
        {
          "output_type": "stream",
          "name": "stdout",
          "text": [
            "인사말 출력하기\n",
            "식사하셧습니까? 행님\n"
          ]
        }
      ]
    },
    {
      "cell_type": "markdown",
      "source": [
        "3. 학생 4명의 국어점수를 입력받아서 아래와 같이 출력하시오.\n",
        " - 박보검: 90점\n",
        " - 션    : 92점\n",
        " - 도룡용: 80점\n",
        " - 차은우: 99점\n",
        " - 국어 점수 순위\n",
        " - 1등 차은우\n",
        " - 2등 션\n",
        " - 3등 박보검\n",
        " - 4등 도룡용\n",
        ""
      ],
      "metadata": {
        "id": "8FKk0241wyqI"
      }
    },
    {
      "cell_type": "code",
      "source": [
        "n1 = input(\"학생 점수를 입력하시오:\")\n",
        "n2 = input(\"학생 점수를 입력하시오:\")\n",
        "n3 = input(\"학생 점수를 입력하시오:\")\n",
        "n4 = input(\"학생 점수를 입력하시오:\")\n",
        "print(\"1등\",n4)\n",
        "print(\"2등\",n2)\n",
        "print(\"3등\",n1)\n",
        "print(\"4등\",n3)\n",
        "\n"
      ],
      "metadata": {
        "colab": {
          "base_uri": "https://localhost:8080/"
        },
        "id": "gJ6-EGzO1KAY",
        "outputId": "34a1bd00-87d3-49c1-c2e5-c07dc98634fc"
      },
      "execution_count": 26,
      "outputs": [
        {
          "output_type": "stream",
          "name": "stdout",
          "text": [
            "학생 점수를 입력하시오:박보검:90점\n",
            "학생 점수를 입력하시오:션:92점\n",
            "학생 점수를 입력하시오:도룡용:80점\n",
            "학생 점수를 입력하시오:차은우99점\n",
            "1등 차은우99점\n",
            "2등 션:92점\n",
            "3등 박보검:90점\n",
            "4등 도룡용:80점\n"
          ]
        }
      ]
    },
    {
      "cell_type": "markdown",
      "source": [
        "4, 두개의 점수를 입력받아서 합계와 평균을 출력하시오.\n"
      ],
      "metadata": {
        "id": "nzpVNCe6wtQp"
      }
    },
    {
      "cell_type": "code",
      "source": [
        "n1 = int(input(\"n1의 값을 입력하시오: \"))\n",
        "n2 = int(input(\"n2의 값을 입력하시오: \"))\n",
        "total = n1 + n2\n",
        "average = total/2\n",
        "print(\"합계\", total, \"평균\", average)"
      ],
      "metadata": {
        "colab": {
          "base_uri": "https://localhost:8080/"
        },
        "id": "qwYE2_fX1ifo",
        "outputId": "8eabc9af-981a-494d-b2cb-46288e3704e8"
      },
      "execution_count": 34,
      "outputs": [
        {
          "output_type": "stream",
          "name": "stdout",
          "text": [
            "n1의 값을 입력하시오: 30\n",
            "n2의 값을 입력하시오: 30\n",
            "합계 60 평균 30.0\n"
          ]
        }
      ]
    }
  ]
}